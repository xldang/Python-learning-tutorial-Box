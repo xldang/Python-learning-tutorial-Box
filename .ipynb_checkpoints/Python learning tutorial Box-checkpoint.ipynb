{
 "cells": [
  {
   "cell_type": "markdown",
   "id": "resistant-directory",
   "metadata": {},
   "source": [
    "# Python learning tutorial Box \n",
    "### Author: xldang2020@gmail.com\n",
    "\n",
    "* [1.Introduction](#intro)\n",
    "* [2.Box artchitecture](#artchi)\n",
    "* [3.Calculator](#calculator)\n",
    "    * [3.1 Data type](#ch3.1)\n",
    "    * [3.2 Operator](#ch3.2)\n",
    "    * [3.3 Once for all: function](#ch3.3)\n",
    "* [4.Vocabulary notebook](#vocab)\n",
    "    * [4.1 list](#ch4.1)\n",
    "    * [4.2 dict](#ch4.2)\n",
    "    * [4.3 set](#ch4.3)\n",
    "    * [4.4 Progamming a Vocabulary notebook app.](#ch4.4)\n",
    "* [5.Searching toolkit](#search)\n",
    "    * [5.1 import](#ch5.1)\n",
    "    * [5.2 loop control](#ch5.2)\n",
    "    * [5.3 Guess me?](#ch5.3)\n",
    "* [6.OOP (object-oriented programming)](#OOP)\n",
    "    * [6.1 Learning OOP with Python](#ch6.1)\n",
    "    * [6.2 Calculator with OOP](#ch6.2)\n",
    "* [7.Summary and outlook](#summary)"
   ]
  },
  {
   "cell_type": "markdown",
   "id": "reasonable-device",
   "metadata": {},
   "source": [
    "## 1. Introduction <a name='intro'></a>\n",
    "\n",
    "\n",
    "**If you are new to programming, the material in this article serves as an introduction to the basic building blocks for writing code in Python language.** \n",
    "\n",
    "**This article follows this path to learn the basic knowledge of Python:Want programming a common application? Yes! Let's do it piece by piece.**"
   ]
  },
  {
   "cell_type": "markdown",
   "id": "precise-amber",
   "metadata": {},
   "source": [
    "## 2.Box artchitecture <a name='artchi'></a>"
   ]
  },
  {
   "cell_type": "markdown",
   "id": "modified-primary",
   "metadata": {},
   "source": [
    "<img src='./img/Python Freshman Toolkits.png' >"
   ]
  },
  {
   "cell_type": "markdown",
   "id": "close-terrorism",
   "metadata": {},
   "source": [
    "## 3.Calculator  <a name='calculator'></a>\n",
    "\n",
    "A simple calculator is not simple. Let's try!"
   ]
  },
  {
   "cell_type": "markdown",
   "id": "accurate-tomato",
   "metadata": {},
   "source": [
    "### 3.1 Data type / 数据类型 <a name='ch3.1'></a>"
   ]
  },
  {
   "cell_type": "markdown",
   "id": "northern-western",
   "metadata": {},
   "source": [
    "- int 整型:such as 1,2,3,100,200,...\n",
    "- float 浮点型: such as 1.0,2.0,3.5,5.02,...\n",
    "- bool 布尔型 ：True,False"
   ]
  },
  {
   "cell_type": "markdown",
   "id": "worldwide-twist",
   "metadata": {},
   "source": [
    "### 3.2 Operator / 操作符  <a name='ch3.2'></a>\n",
    "- +\n",
    "- -\n",
    "- \\* (×)\n",
    "- / (÷)\n",
    "- // (整除)\n",
    "- % (取模：返回除法运算后的余数)\n",
    "- << (左移：二进制)\n",
    "- \\>> (右移：二进制)\n",
    "- \\> (大于) 、\\>= (大于等于)、\\< (小于) 、\\<=(小于等于)、\\== (等于)、\\!= (不等于)\n",
    "- not （布尔“非”）、and （布尔“与”）、or （布尔“或”）"
   ]
  },
  {
   "cell_type": "markdown",
   "id": "herbal-literacy",
   "metadata": {},
   "source": [
    "### 3.3 Once for all: function  / 一劳永逸：函数  <a name='ch3.3'></a>\n",
    "\n",
    "***def*** is the head of *definition*.  [ˌdefɪˈnɪʃn] 定义\n",
    "\n",
    "In Python language, ***def*** is used to define a function."
   ]
  },
  {
   "cell_type": "code",
   "execution_count": 1,
   "id": "innocent-hebrew",
   "metadata": {},
   "outputs": [],
   "source": [
    "def add(a=0,b=0):\n",
    "    x=a+b\n",
    "    return x"
   ]
  },
  {
   "cell_type": "code",
   "execution_count": 2,
   "id": "dangerous-penetration",
   "metadata": {},
   "outputs": [
    {
     "data": {
      "text/plain": [
       "3"
      ]
     },
     "execution_count": 2,
     "metadata": {},
     "output_type": "execute_result"
    }
   ],
   "source": [
    "add(1,2)"
   ]
  },
  {
   "cell_type": "code",
   "execution_count": 3,
   "id": "scheduled-ontario",
   "metadata": {},
   "outputs": [],
   "source": [
    "def minus(a=0,b=0):\n",
    "    x=a-b\n",
    "    return x"
   ]
  },
  {
   "cell_type": "code",
   "execution_count": 4,
   "id": "great-efficiency",
   "metadata": {},
   "outputs": [
    {
     "data": {
      "text/plain": [
       "-1"
      ]
     },
     "execution_count": 4,
     "metadata": {},
     "output_type": "execute_result"
    }
   ],
   "source": [
    "minus(1,2)"
   ]
  },
  {
   "cell_type": "code",
   "execution_count": 5,
   "id": "absolute-screening",
   "metadata": {},
   "outputs": [],
   "source": [
    "def multiply(a=0,b=0):\n",
    "    x=a*b\n",
    "    return x"
   ]
  },
  {
   "cell_type": "code",
   "execution_count": 6,
   "id": "genuine-light",
   "metadata": {},
   "outputs": [
    {
     "data": {
      "text/plain": [
       "2"
      ]
     },
     "execution_count": 6,
     "metadata": {},
     "output_type": "execute_result"
    }
   ],
   "source": [
    "multiply(1,2)"
   ]
  },
  {
   "cell_type": "markdown",
   "id": "protective-script",
   "metadata": {},
   "source": [
    "### 3.4 My calculator app. : Freshman Version <a name='ch3.4'></a>\n",
    "\n",
    "**What you need to know:**\n",
    "- Expression: if (while,for, will be learn later)\n",
    "- Function call: a function appears in another function's body.\n",
    "\n",
    "Let's combine lots of opertors in one function."
   ]
  },
  {
   "cell_type": "code",
   "execution_count": 7,
   "id": "meaningful-duplicate",
   "metadata": {},
   "outputs": [],
   "source": [
    "def myCalculator(a=0,b=0,operator='+'):\n",
    "    if operator=='+':\n",
    "        return add(a,b)\n",
    "    elif operator=='-':\n",
    "        return minus(a,b)\n",
    "    elif operator=='*':\n",
    "        return multiply(a,b)\n",
    "    else:\n",
    "        print(\"Want more function? Try yourself!\")"
   ]
  },
  {
   "cell_type": "code",
   "execution_count": 8,
   "id": "cosmetic-country",
   "metadata": {},
   "outputs": [
    {
     "data": {
      "text/plain": [
       "6"
      ]
     },
     "execution_count": 8,
     "metadata": {},
     "output_type": "execute_result"
    }
   ],
   "source": [
    "myCalculator(2,3,'*')"
   ]
  },
  {
   "cell_type": "markdown",
   "id": "polish-terror",
   "metadata": {},
   "source": [
    "## 4. Vocabulary notebook <a name='vocab'></a>\n",
    "\n",
    "**What you need to know:**\n",
    "\n",
    "- list:列表\n",
    "- dict: dictionary 字典\n",
    "- set: 集合\n",
    "- tuple: 元组"
   ]
  },
  {
   "cell_type": "markdown",
   "id": "smaller-newspaper",
   "metadata": {},
   "source": [
    "### 4.1 list 列表  <a name='ch4.1'></a>\n",
    "\n",
    "In Python,if you define a variable *x* with [ something ],then *x* is a list object."
   ]
  },
  {
   "cell_type": "code",
   "execution_count": 9,
   "id": "advance-struggle",
   "metadata": {},
   "outputs": [],
   "source": [
    "x=[1,2,3,'hello','a','b','c']"
   ]
  },
  {
   "cell_type": "code",
   "execution_count": 10,
   "id": "individual-yahoo",
   "metadata": {},
   "outputs": [
    {
     "data": {
      "text/plain": [
       "list"
      ]
     },
     "execution_count": 10,
     "metadata": {},
     "output_type": "execute_result"
    }
   ],
   "source": [
    "type(x)"
   ]
  },
  {
   "cell_type": "markdown",
   "id": "original-coast",
   "metadata": {},
   "source": [
    "- What is **in** mean?"
   ]
  },
  {
   "cell_type": "code",
   "execution_count": 11,
   "id": "cosmetic-helicopter",
   "metadata": {},
   "outputs": [
    {
     "data": {
      "text/plain": [
       "True"
      ]
     },
     "execution_count": 11,
     "metadata": {},
     "output_type": "execute_result"
    }
   ],
   "source": [
    "1 in x"
   ]
  },
  {
   "cell_type": "code",
   "execution_count": 12,
   "id": "greater-journal",
   "metadata": {},
   "outputs": [
    {
     "data": {
      "text/plain": [
       "False"
      ]
     },
     "execution_count": 12,
     "metadata": {},
     "output_type": "execute_result"
    }
   ],
   "source": [
    "5 in x"
   ]
  },
  {
   "cell_type": "markdown",
   "id": "worthy-mainstream",
   "metadata": {},
   "source": [
    "As you see above, if *a*  contains *b* ,then *b in a* return True else return False\n",
    "\n",
    "- **Select values from a list:**"
   ]
  },
  {
   "cell_type": "code",
   "execution_count": 13,
   "id": "institutional-mother",
   "metadata": {},
   "outputs": [
    {
     "data": {
      "text/plain": [
       "1"
      ]
     },
     "execution_count": 13,
     "metadata": {},
     "output_type": "execute_result"
    }
   ],
   "source": [
    "x[0]"
   ]
  },
  {
   "cell_type": "code",
   "execution_count": 14,
   "id": "representative-checklist",
   "metadata": {},
   "outputs": [
    {
     "data": {
      "text/plain": [
       "'hello'"
      ]
     },
     "execution_count": 14,
     "metadata": {},
     "output_type": "execute_result"
    }
   ],
   "source": [
    "x[3]"
   ]
  },
  {
   "cell_type": "code",
   "execution_count": 15,
   "id": "preliminary-exhibit",
   "metadata": {},
   "outputs": [
    {
     "data": {
      "text/plain": [
       "[3, 'hello']"
      ]
     },
     "execution_count": 15,
     "metadata": {},
     "output_type": "execute_result"
    }
   ],
   "source": [
    "x[2:4]"
   ]
  },
  {
   "cell_type": "code",
   "execution_count": 16,
   "id": "intermediate-legislature",
   "metadata": {},
   "outputs": [
    {
     "data": {
      "text/plain": [
       "'c'"
      ]
     },
     "execution_count": 16,
     "metadata": {},
     "output_type": "execute_result"
    }
   ],
   "source": [
    "x[-1] #the last one"
   ]
  },
  {
   "cell_type": "markdown",
   "id": "prerequisite-arctic",
   "metadata": {},
   "source": [
    "**built-in function：Python内置函数**\n",
    "\n",
    "- len :测量一个对象的容量\n",
    "- max/min :最大/最小"
   ]
  },
  {
   "cell_type": "code",
   "execution_count": 17,
   "id": "massive-graphics",
   "metadata": {},
   "outputs": [
    {
     "data": {
      "text/plain": [
       "7"
      ]
     },
     "execution_count": 17,
     "metadata": {},
     "output_type": "execute_result"
    }
   ],
   "source": [
    "len(x)"
   ]
  },
  {
   "cell_type": "code",
   "execution_count": 18,
   "id": "listed-defendant",
   "metadata": {},
   "outputs": [
    {
     "ename": "TypeError",
     "evalue": "'>' not supported between instances of 'str' and 'int'",
     "output_type": "error",
     "traceback": [
      "\u001b[1;31m---------------------------------------------------------------------------\u001b[0m",
      "\u001b[1;31mTypeError\u001b[0m                                 Traceback (most recent call last)",
      "\u001b[1;32m<ipython-input-18-1bc64b90f83c>\u001b[0m in \u001b[0;36m<module>\u001b[1;34m\u001b[0m\n\u001b[1;32m----> 1\u001b[1;33m \u001b[0mmax\u001b[0m\u001b[1;33m(\u001b[0m\u001b[0mx\u001b[0m\u001b[1;33m)\u001b[0m \u001b[1;31m# x中必须是可以相互比较的元素\u001b[0m\u001b[1;33m\u001b[0m\u001b[1;33m\u001b[0m\u001b[0m\n\u001b[0m",
      "\u001b[1;31mTypeError\u001b[0m: '>' not supported between instances of 'str' and 'int'"
     ]
    }
   ],
   "source": [
    "max(x) # x中必须是可以相互比较的元素"
   ]
  },
  {
   "cell_type": "code",
   "execution_count": null,
   "id": "champion-administration",
   "metadata": {},
   "outputs": [],
   "source": [
    "max([1,2,3,4,5]),min(['a','aa','aaa'])"
   ]
  },
  {
   "cell_type": "markdown",
   "id": "ordered-establishment",
   "metadata": {},
   "source": [
    "**初次接触：面向对象编程——类与对象**\n",
    "- list is a python ***class***\n",
    "- y=[1,2] is a list ***object***, and a object has many ***methods***.\n",
    "- y.append(3) is a add_value method"
   ]
  },
  {
   "cell_type": "code",
   "execution_count": 19,
   "id": "straight-mexico",
   "metadata": {},
   "outputs": [
    {
     "name": "stdout",
     "output_type": "stream",
     "text": [
      "[1, 2, 3]\n"
     ]
    }
   ],
   "source": [
    "y=[1,2]\n",
    "y.append(3)\n",
    "print(y)"
   ]
  },
  {
   "cell_type": "markdown",
   "id": "celtic-mechanics",
   "metadata": {},
   "source": [
    "Want more details? Let's talk about it later!"
   ]
  },
  {
   "cell_type": "markdown",
   "id": "divine-dubai",
   "metadata": {},
   "source": [
    "### 4.2 dict 字典  <a name='ch4.2'></a>\n",
    "\n",
    "In Python,if you define a variable x with { key1:value1,key2:value2,... },then x is a list object."
   ]
  },
  {
   "cell_type": "code",
   "execution_count": 20,
   "id": "superb-photographer",
   "metadata": {},
   "outputs": [
    {
     "data": {
      "text/plain": [
       "dict"
      ]
     },
     "execution_count": 20,
     "metadata": {},
     "output_type": "execute_result"
    }
   ],
   "source": [
    "dictX={'Name':'Lucy','Age':18}\n",
    "type(dictX)"
   ]
  },
  {
   "cell_type": "code",
   "execution_count": 21,
   "id": "pleasant-renewal",
   "metadata": {},
   "outputs": [
    {
     "data": {
      "text/plain": [
       "'Lucy'"
      ]
     },
     "execution_count": 21,
     "metadata": {},
     "output_type": "execute_result"
    }
   ],
   "source": [
    "# read values from dict in this way:\n",
    "dictX['Name']"
   ]
  },
  {
   "cell_type": "code",
   "execution_count": 22,
   "id": "molecular-crack",
   "metadata": {},
   "outputs": [
    {
     "name": "stdout",
     "output_type": "stream",
     "text": [
      "{'Name': 'Lucy', 'Age': 18, 'address': 'American'}\n"
     ]
    }
   ],
   "source": [
    "# add values into dict in this way:\n",
    "dictX['address']='American'\n",
    "print(dictX)"
   ]
  },
  {
   "cell_type": "code",
   "execution_count": 23,
   "id": "regional-traffic",
   "metadata": {},
   "outputs": [],
   "source": [
    "# If a key is alread in a dict,what will happen?\n",
    "dictX['address']='China'"
   ]
  },
  {
   "cell_type": "code",
   "execution_count": 24,
   "id": "careful-constraint",
   "metadata": {},
   "outputs": [
    {
     "name": "stdout",
     "output_type": "stream",
     "text": [
      "{'Name': 'Lucy', 'Age': 18, 'address': 'China'}\n"
     ]
    }
   ],
   "source": [
    "#If a key is alread in a dict,it's value will be replaced!\n",
    "print(dictX)"
   ]
  },
  {
   "cell_type": "code",
   "execution_count": 25,
   "id": "injured-spirit",
   "metadata": {},
   "outputs": [
    {
     "data": {
      "text/plain": [
       "True"
      ]
     },
     "execution_count": 25,
     "metadata": {},
     "output_type": "execute_result"
    }
   ],
   "source": [
    "#  How can i know  if a key is in one dict object\n",
    "'Age' in dictX"
   ]
  },
  {
   "cell_type": "code",
   "execution_count": 26,
   "id": "auburn-popularity",
   "metadata": {},
   "outputs": [
    {
     "data": {
      "text/plain": [
       "False"
      ]
     },
     "execution_count": 26,
     "metadata": {},
     "output_type": "execute_result"
    }
   ],
   "source": [
    "#  How can i know  if a key is in one dict object\n",
    "'Gender' in dictX"
   ]
  },
  {
   "cell_type": "markdown",
   "id": "false-procurement",
   "metadata": {},
   "source": [
    "### 4.3 set 集合  <a name='ch4.3'></a>\n",
    "\n",
    "In Python,if you define a variable **x** with {value1,value2,... },then **x** is a ***set*** object."
   ]
  },
  {
   "cell_type": "code",
   "execution_count": 27,
   "id": "timely-adobe",
   "metadata": {},
   "outputs": [
    {
     "data": {
      "text/plain": [
       "set"
      ]
     },
     "execution_count": 27,
     "metadata": {},
     "output_type": "execute_result"
    }
   ],
   "source": [
    "setX={1,2,3,4,5,7}\n",
    "type(setX)"
   ]
  },
  {
   "cell_type": "markdown",
   "id": "bibliographic-injection",
   "metadata": {},
   "source": [
    "集合（Set）是简单对象的无序集合（Collection）,这里的集合概念和数学上的集合概念是一样的：**无序、元素不重复**"
   ]
  },
  {
   "cell_type": "code",
   "execution_count": 28,
   "id": "mighty-consortium",
   "metadata": {},
   "outputs": [
    {
     "name": "stdout",
     "output_type": "stream",
     "text": [
      "Before add in: {1, 2, 3, 4, 5, 7}\n",
      "After add in: {1, 2, 3, 4, 5, 7} nothing happens!\n"
     ]
    }
   ],
   "source": [
    "setX={1,2,3,4,5,7}\n",
    "print('Before add in:',setX)\n",
    "setX.add(1) # add in a value which already exists in a set object, nothing changes\n",
    "print('After add in:',setX,'nothing happens!')"
   ]
  },
  {
   "cell_type": "code",
   "execution_count": 29,
   "id": "formed-skiing",
   "metadata": {},
   "outputs": [
    {
     "name": "stdout",
     "output_type": "stream",
     "text": [
      "Before add in: {1, 2, 3, 4, 5, 7}\n",
      "After add in: {1, 2, 3, 4, 5, 7, 8} new value join in!\n"
     ]
    }
   ],
   "source": [
    "setX={1,2,3,4,5,7}\n",
    "print('Before add in:',setX)\n",
    "setX.add(8) # add in a new value , set changes\n",
    "print('After add in:',setX,'new value join in!')"
   ]
  },
  {
   "cell_type": "code",
   "execution_count": 30,
   "id": "harmful-dairy",
   "metadata": {},
   "outputs": [
    {
     "name": "stdout",
     "output_type": "stream",
     "text": [
      "setX is: {1, 2, 3, 4, 5, 7, 8}\n",
      "setY is: {1, 2, 3, 9}\n",
      "Their intersection(交集) is:  {1, 2, 3}\n"
     ]
    }
   ],
   "source": [
    "setY={1,2,3,9}\n",
    "print('setX is:',setX)\n",
    "print('setY is:',setY)\n",
    "\n",
    "ans=setX.intersection(setY) # assign to ans \n",
    "print(\"Their intersection(交集) is: \",ans)"
   ]
  },
  {
   "cell_type": "markdown",
   "id": "virgin-drill",
   "metadata": {},
   "source": [
    "**第二次接触：面向对象编程——类与对象**\n",
    "- set is also a python ***class***\n",
    "- setY={1,2,3} is a set ***object***, and a ***object*** has many ***methods***.\n",
    "- setY.intersection(setX) is a intersection(交集) method\n",
    "\n",
    "Try another method:"
   ]
  },
  {
   "cell_type": "code",
   "execution_count": 31,
   "id": "specific-marina",
   "metadata": {},
   "outputs": [
    {
     "data": {
      "text/plain": [
       "{4, 5, 7, 8}"
      ]
     },
     "execution_count": 31,
     "metadata": {},
     "output_type": "execute_result"
    }
   ],
   "source": [
    "setX.difference(setY) # 取setX与setY的差集"
   ]
  },
  {
   "cell_type": "code",
   "execution_count": 32,
   "id": "economic-integrity",
   "metadata": {},
   "outputs": [
    {
     "data": {
      "text/plain": [
       "{1, 2, 3, 4, 5, 7, 8, 9}"
      ]
     },
     "execution_count": 32,
     "metadata": {},
     "output_type": "execute_result"
    }
   ],
   "source": [
    "setX.union(setY) # 取setX与setY的并集"
   ]
  },
  {
   "cell_type": "markdown",
   "id": "polished-framework",
   "metadata": {},
   "source": [
    "### 4.4 Progamming a Vocabulary notebook app. 做一个单词本  <a name='ch4.4'></a>"
   ]
  },
  {
   "cell_type": "code",
   "execution_count": 33,
   "id": "italian-strap",
   "metadata": {},
   "outputs": [],
   "source": [
    "myVocab={} # 先定义一个空的字典\n",
    "def useMyVocab(word='',means='',myNote=myVocab):\n",
    "    if word not in myNote:\n",
    "        myNote[word]=[means] # a list object as key's value\n",
    "    elif means not in myNote[word]:\n",
    "        myNote[word].append(means)\n",
    "    else:\n",
    "        print(\"Your notebook already has a word named %s with means %s\"%(word,means))\n",
    "    return myNote"
   ]
  },
  {
   "cell_type": "code",
   "execution_count": 34,
   "id": "official-serial",
   "metadata": {},
   "outputs": [
    {
     "data": {
      "text/plain": [
       "{'Apple': ['苹果']}"
      ]
     },
     "execution_count": 34,
     "metadata": {},
     "output_type": "execute_result"
    }
   ],
   "source": [
    "useMyVocab('Apple','苹果',myVocab)"
   ]
  },
  {
   "cell_type": "code",
   "execution_count": 35,
   "id": "automotive-adult",
   "metadata": {},
   "outputs": [
    {
     "name": "stdout",
     "output_type": "stream",
     "text": [
      "Your notebook already has a word named Apple with means 苹果\n"
     ]
    },
    {
     "data": {
      "text/plain": [
       "{'Apple': ['苹果']}"
      ]
     },
     "execution_count": 35,
     "metadata": {},
     "output_type": "execute_result"
    }
   ],
   "source": [
    "useMyVocab('Apple','苹果',myVocab)"
   ]
  },
  {
   "cell_type": "code",
   "execution_count": 36,
   "id": "forward-speaking",
   "metadata": {},
   "outputs": [
    {
     "data": {
      "text/plain": [
       "{'Apple': ['苹果', '苹果手机']}"
      ]
     },
     "execution_count": 36,
     "metadata": {},
     "output_type": "execute_result"
    }
   ],
   "source": [
    "useMyVocab('Apple','苹果手机',myVocab)"
   ]
  },
  {
   "cell_type": "code",
   "execution_count": 37,
   "id": "needed-browser",
   "metadata": {},
   "outputs": [
    {
     "data": {
      "text/plain": [
       "{'Apple': ['苹果', '苹果手机'], 'Orange': ['橙子']}"
      ]
     },
     "execution_count": 37,
     "metadata": {},
     "output_type": "execute_result"
    }
   ],
   "source": [
    "useMyVocab('Orange','橙子',myVocab)"
   ]
  },
  {
   "cell_type": "code",
   "execution_count": 38,
   "id": "aboriginal-level",
   "metadata": {},
   "outputs": [
    {
     "data": {
      "text/plain": [
       "{'Apple': ['苹果', '苹果手机'], 'Orange': ['橙子', '橙色']}"
      ]
     },
     "execution_count": 38,
     "metadata": {},
     "output_type": "execute_result"
    }
   ],
   "source": [
    "useMyVocab('Orange','橙色',myVocab)"
   ]
  },
  {
   "cell_type": "code",
   "execution_count": 39,
   "id": "informal-mechanics",
   "metadata": {},
   "outputs": [
    {
     "data": {
      "text/plain": [
       "{'Apple': ['苹果', '苹果手机'], 'Orange': ['橙子', '橙色']}"
      ]
     },
     "execution_count": 39,
     "metadata": {},
     "output_type": "execute_result"
    }
   ],
   "source": [
    "myVocab"
   ]
  },
  {
   "cell_type": "code",
   "execution_count": 40,
   "id": "historic-debut",
   "metadata": {},
   "outputs": [
    {
     "data": {
      "text/plain": [
       "['苹果', '苹果手机']"
      ]
     },
     "execution_count": 40,
     "metadata": {},
     "output_type": "execute_result"
    }
   ],
   "source": [
    "myVocab['Apple']"
   ]
  },
  {
   "cell_type": "markdown",
   "id": "strong-thong",
   "metadata": {},
   "source": [
    "## 5. Searching toolkit <a name='search'></a>\n",
    "\n",
    "Suppose there is a number **X** belongs to [-10000,10000], how can you guess it right as soon as possible, and how many times do you need?\n",
    "\n",
    "***What you need to know:***\n",
    "\n",
    "- random : a Python package 随机数模块包\n",
    "- while : 循环控制流\n",
    "- if : 条件控制\n",
    "- for :  循环控制流\n",
    "- break: 停止循环控制流\n",
    "- continue: 跳出当前循环\n",
    "\n"
   ]
  },
  {
   "cell_type": "markdown",
   "id": "rolled-singles",
   "metadata": {},
   "source": [
    "### 5.1 import  <a name='ch5.1'></a>\n",
    "\n",
    "**第一次接触：开源编程——引入外部依赖包 import**"
   ]
  },
  {
   "cell_type": "code",
   "execution_count": 41,
   "id": "pleasant-pavilion",
   "metadata": {},
   "outputs": [],
   "source": [
    "import random  # then random can be used as a object variable"
   ]
  },
  {
   "cell_type": "code",
   "execution_count": 42,
   "id": "pending-webmaster",
   "metadata": {},
   "outputs": [
    {
     "data": {
      "text/plain": [
       "0"
      ]
     },
     "execution_count": 42,
     "metadata": {},
     "output_type": "execute_result"
    }
   ],
   "source": [
    "random.randint(0,10)"
   ]
  },
  {
   "cell_type": "code",
   "execution_count": 43,
   "id": "funny-broadway",
   "metadata": {},
   "outputs": [
    {
     "data": {
      "text/plain": [
       "3.614438408032243"
      ]
     },
     "execution_count": 43,
     "metadata": {},
     "output_type": "execute_result"
    }
   ],
   "source": [
    "random.uniform(2,5)"
   ]
  },
  {
   "cell_type": "code",
   "execution_count": 44,
   "id": "acquired-premiere",
   "metadata": {},
   "outputs": [],
   "source": [
    "import numpy as np"
   ]
  },
  {
   "cell_type": "code",
   "execution_count": 45,
   "id": "robust-halloween",
   "metadata": {},
   "outputs": [
    {
     "data": {
      "text/plain": [
       "3.141592653589793"
      ]
     },
     "execution_count": 45,
     "metadata": {},
     "output_type": "execute_result"
    }
   ],
   "source": [
    "np.pi # π"
   ]
  },
  {
   "cell_type": "code",
   "execution_count": 46,
   "id": "coral-attention",
   "metadata": {},
   "outputs": [
    {
     "data": {
      "text/plain": [
       "1.0"
      ]
     },
     "execution_count": 46,
     "metadata": {},
     "output_type": "execute_result"
    }
   ],
   "source": [
    "np.sin(np.pi/2)"
   ]
  },
  {
   "cell_type": "code",
   "execution_count": 47,
   "id": "loved-logan",
   "metadata": {},
   "outputs": [
    {
     "data": {
      "text/plain": [
       "2"
      ]
     },
     "execution_count": 47,
     "metadata": {},
     "output_type": "execute_result"
    }
   ],
   "source": [
    "np.abs(-2)"
   ]
  },
  {
   "cell_type": "code",
   "execution_count": 48,
   "id": "indian-insider",
   "metadata": {},
   "outputs": [
    {
     "data": {
      "text/plain": [
       "2.0"
      ]
     },
     "execution_count": 48,
     "metadata": {},
     "output_type": "execute_result"
    }
   ],
   "source": [
    "np.sqrt(4)"
   ]
  },
  {
   "cell_type": "code",
   "execution_count": 49,
   "id": "fixed-measurement",
   "metadata": {},
   "outputs": [
    {
     "data": {
      "text/plain": [
       "9"
      ]
     },
     "execution_count": 49,
     "metadata": {},
     "output_type": "execute_result"
    }
   ],
   "source": [
    "np.square(3)"
   ]
  },
  {
   "cell_type": "markdown",
   "id": "veterinary-services",
   "metadata": {},
   "source": [
    "### 5.2 Loop Control 循环控制流  <a name='ch5.2'></a>\n",
    "\n",
    "**第一次接触：开源编程——引入外部依赖包 import**\n",
    "\n",
    "### 5.2.1 While loop\n",
    "- while flag:\n",
    "    - event A\n",
    "        \n",
    "**while** body (event A) will never ends if **flag** is ***True*** unless **flag** turn into ***False***."
   ]
  },
  {
   "cell_type": "code",
   "execution_count": 50,
   "id": "adaptive-prevention",
   "metadata": {},
   "outputs": [
    {
     "name": "stdout",
     "output_type": "stream",
     "text": [
      "Flag times<10 is bool: True\n",
      "  Event A goes 1 times...\n",
      "Flag times<10 is bool: True\n",
      "  Event A goes 2 times...\n",
      "Flag times<10 is bool: True\n",
      "  Event A goes 3 times...\n",
      "Flag times<10 is bool: True\n",
      "  Event A goes 4 times...\n",
      "Flag times<10 is bool: True\n",
      "  Event A goes 5 times...\n",
      "Flag times<10 is bool: True\n",
      "  Event A goes 6 times...\n",
      "Flag times<10 is bool: True\n",
      "  Event A goes 7 times...\n",
      "Flag times<10 is bool: True\n",
      "  Event A goes 8 times...\n",
      "Flag times<10 is bool: True\n",
      "  Event A goes 9 times...\n",
      "Flag times<10 is bool: True\n",
      "  Event A goes 10 times...\n",
      "The last Flag times<10 is bool: False\n"
     ]
    }
   ],
   "source": [
    "times=0\n",
    "while times<10:\n",
    "    #event A\n",
    "    print(\"Flag times<10 is bool:\",times<10)\n",
    "    times=times+1\n",
    "    print(\"  Event A goes %d times...\"%times)\n",
    "print(\"The last Flag times<10 is bool:\",times<10)"
   ]
  },
  {
   "cell_type": "markdown",
   "id": "narrow-technology",
   "metadata": {},
   "source": [
    "### 5.2.2 for loop"
   ]
  },
  {
   "cell_type": "markdown",
   "id": "incredible-notice",
   "metadata": {},
   "source": [
    "- for v in iteration_object:\n",
    "    - event A (handle v)\n",
    "    - if v satisfies one condition, we can ***break*** this **for** body\n",
    "    \n",
    "**① what is iteration_object?** 什么是可迭代对象"
   ]
  },
  {
   "cell_type": "code",
   "execution_count": 51,
   "id": "neither-intensity",
   "metadata": {},
   "outputs": [
    {
     "data": {
      "text/plain": [
       "range(0, 10)"
      ]
     },
     "execution_count": 51,
     "metadata": {},
     "output_type": "execute_result"
    }
   ],
   "source": [
    "range(10)"
   ]
  },
  {
   "cell_type": "code",
   "execution_count": 52,
   "id": "satisfied-costa",
   "metadata": {},
   "outputs": [
    {
     "name": "stdout",
     "output_type": "stream",
     "text": [
      "0\n",
      "1\n",
      "2\n",
      "3\n",
      "4\n",
      "5\n",
      "6\n",
      "7\n",
      "8\n",
      "9\n"
     ]
    }
   ],
   "source": [
    "for i in range(10):\n",
    "    print(i)"
   ]
  },
  {
   "cell_type": "markdown",
   "id": "regulated-church",
   "metadata": {},
   "source": [
    "**② 字符串，列表，元祖，字典，集合等等，都是可迭代对象。**"
   ]
  },
  {
   "cell_type": "code",
   "execution_count": 53,
   "id": "signed-ministry",
   "metadata": {},
   "outputs": [
    {
     "name": "stdout",
     "output_type": "stream",
     "text": [
      "1\n",
      "2\n",
      "3\n",
      "4\n",
      "5\n",
      "a\n",
      "b\n"
     ]
    }
   ],
   "source": [
    "aList=['1','2',3,4,5,'a','b']\n",
    "for v in aList:\n",
    "    print(v)"
   ]
  },
  {
   "cell_type": "code",
   "execution_count": 54,
   "id": "amino-louis",
   "metadata": {},
   "outputs": [
    {
     "data": {
      "text/plain": [
       "7"
      ]
     },
     "execution_count": 54,
     "metadata": {},
     "output_type": "execute_result"
    }
   ],
   "source": [
    "# built-in function len \n",
    "len(aList)"
   ]
  },
  {
   "cell_type": "code",
   "execution_count": 55,
   "id": "bibliographic-toyota",
   "metadata": {},
   "outputs": [
    {
     "name": "stdout",
     "output_type": "stream",
     "text": [
      "1\n",
      "2\n",
      "3\n",
      "4\n",
      "5\n",
      "a\n",
      "b\n"
     ]
    }
   ],
   "source": [
    "#How to traverse a list by it's index ?如何按索引号遍历一个列表？\n",
    "for index in range(len(aList)):\n",
    "    print(aList[index])"
   ]
  },
  {
   "cell_type": "markdown",
   "id": "competent-nashville",
   "metadata": {},
   "source": [
    "### 5.2.3 if / break /continue \n",
    "\n",
    "**Let's do something in loop body**\n",
    "\n",
    "**① 第一次接触：python standard input 标准输入流**"
   ]
  },
  {
   "cell_type": "code",
   "execution_count": 56,
   "id": "social-timeline",
   "metadata": {},
   "outputs": [
    {
     "name": "stdout",
     "output_type": "stream",
     "text": [
      "Please enter a integer value between (-10,10): 5\n"
     ]
    }
   ],
   "source": [
    "your_input=input(\"Please enter a integer value between (-10,10): \")"
   ]
  },
  {
   "cell_type": "code",
   "execution_count": 57,
   "id": "extra-integration",
   "metadata": {},
   "outputs": [
    {
     "data": {
      "text/plain": [
       "'5'"
      ]
     },
     "execution_count": 57,
     "metadata": {},
     "output_type": "execute_result"
    }
   ],
   "source": [
    "your_input"
   ]
  },
  {
   "cell_type": "code",
   "execution_count": 58,
   "id": "subtle-package",
   "metadata": {},
   "outputs": [
    {
     "data": {
      "text/plain": [
       "str"
      ]
     },
     "execution_count": 58,
     "metadata": {},
     "output_type": "execute_result"
    }
   ],
   "source": [
    "# it become a string object, \n",
    "type(your_input) "
   ]
  },
  {
   "cell_type": "code",
   "execution_count": 59,
   "id": "given-isaac",
   "metadata": {},
   "outputs": [
    {
     "data": {
      "text/plain": [
       "5"
      ]
     },
     "execution_count": 59,
     "metadata": {},
     "output_type": "execute_result"
    }
   ],
   "source": [
    "# we need to force type changes like this :\n",
    "int(your_input)"
   ]
  },
  {
   "cell_type": "markdown",
   "id": "significant-thumb",
   "metadata": {},
   "source": [
    "**② let's break something!**"
   ]
  },
  {
   "cell_type": "code",
   "execution_count": 60,
   "id": "virgin-current",
   "metadata": {},
   "outputs": [
    {
     "name": "stdout",
     "output_type": "stream",
     "text": [
      "Please enter a integer value between (-10,10): 6\n",
      "Try again!\n",
      "Please enter a integer value between (-10,10): 5\n"
     ]
    }
   ],
   "source": [
    "while True:\n",
    "    v=int(input(\"Please enter a integer value between (-10,10): \"))\n",
    "    if v==5:\n",
    "        break\n",
    "    else:\n",
    "        print('Try again!')"
   ]
  },
  {
   "cell_type": "markdown",
   "id": "excited-saint",
   "metadata": {},
   "source": [
    "**③ let's continue!**\n",
    "\n",
    "if you enter a wrong number,how can it continue?"
   ]
  },
  {
   "cell_type": "code",
   "execution_count": 61,
   "id": "applicable-router",
   "metadata": {},
   "outputs": [
    {
     "name": "stdout",
     "output_type": "stream",
     "text": [
      "Please enter a integer value between (-10,10): 6\n",
      "Try again!\n",
      "Please enter a integer value between (-10,10): 12\n",
      "You enter a wrong number! Please try again!\n",
      "Please enter a integer value between (-10,10): 5\n"
     ]
    }
   ],
   "source": [
    "while True:\n",
    "    v=int(input(\"Please enter a integer value between (-10,10): \"))\n",
    "    if v>10 or v<-10:\n",
    "        print('You enter a wrong number! Please try again!')\n",
    "        continue\n",
    "    elif v==5:\n",
    "        break\n",
    "    else:\n",
    "        print('Try again!')"
   ]
  },
  {
   "cell_type": "markdown",
   "id": "fifteen-jamaica",
   "metadata": {},
   "source": [
    "**④ for loop continue**"
   ]
  },
  {
   "cell_type": "code",
   "execution_count": 62,
   "id": "impressed-maple",
   "metadata": {},
   "outputs": [
    {
     "name": "stdout",
     "output_type": "stream",
     "text": [
      "Lets print non-1 values in alist!\n",
      "2\n",
      "3\n",
      "4\n",
      "5\n"
     ]
    }
   ],
   "source": [
    "alist=[1,1,1,1,2,3,4,5]\n",
    "print('Lets print non-1 values in alist!')\n",
    "for v in alist:\n",
    "    if v==1:\n",
    "        continue\n",
    "    print(v)"
   ]
  },
  {
   "cell_type": "markdown",
   "id": "dangerous-square",
   "metadata": {},
   "source": [
    "### 5.3 Guess me? <a name='ch5.3'></a>\n",
    "\n",
    "**Let's back to our mission:**\n",
    "- Suppose there is a number X belongs to [-10000,10000],provide by ***random*** package;\n",
    "- How can you guess it right as soon as possible;\n",
    "- How many times do you need?"
   ]
  },
  {
   "cell_type": "code",
   "execution_count": 63,
   "id": "bizarre-jason",
   "metadata": {},
   "outputs": [],
   "source": [
    "def guessMe():\n",
    "    from random import randint\n",
    "    target=randint(-10000,10000) # includes -10000,10000\n",
    "    times=0\n",
    "    smaller,bigger=-10000,10000\n",
    "    ## check if illegal input!\n",
    "    while True:\n",
    "        x=int(input(\"Please guess me a number between(%d~%d): \"%(smaller,bigger)))\n",
    "        if x>bigger or x<smaller:\n",
    "            continue\n",
    "        else:\n",
    "            break\n",
    "    ## guess mission main body\n",
    "    while True:\n",
    "        if x==target:\n",
    "            print(\"You guess Right! Costs %d\"%times)\n",
    "            break\n",
    "        elif x>target:\n",
    "            bigger=x-1\n",
    "            times+=1\n",
    "            x=int(input(\"You're Wrong! Please try again between(%d,%d): \"%(smaller,bigger)))\n",
    "        else:\n",
    "            smaller=x+1\n",
    "            times+=1\n",
    "            x=int(input(\"You're Wrong! Please try again between(%d,%d): \"%(smaller,bigger)))"
   ]
  },
  {
   "cell_type": "code",
   "execution_count": 64,
   "id": "regulation-japanese",
   "metadata": {},
   "outputs": [
    {
     "name": "stdout",
     "output_type": "stream",
     "text": [
      "Please guess me a number between(-10000~10000): 0\n",
      "You're Wrong! Please try again between(-10000,-1): -5000\n",
      "You're Wrong! Please try again between(-4999,-1): -2500\n",
      "You're Wrong! Please try again between(-4999,-2501): -1000\n",
      "You're Wrong! Please try again between(-4999,-1001): -3000\n",
      "You're Wrong! Please try again between(-4999,-3001): -3500\n",
      "You're Wrong! Please try again between(-4999,-3501): -4000\n",
      "You're Wrong! Please try again between(-3999,-3501): -3800\n",
      "You're Wrong! Please try again between(-3799,-3501): -3700\n",
      "You're Wrong! Please try again between(-3799,-3701): -3750\n",
      "You're Wrong! Please try again between(-3799,-3751): -3770\n",
      "You're Wrong! Please try again between(-3769,-3751): -3760\n",
      "You're Wrong! Please try again between(-3759,-3751): -3755\n",
      "You're Wrong! Please try again between(-3754,-3751): -3752\n",
      "You're Wrong! Please try again between(-3754,-3753): -3753\n",
      "You're Wrong! Please try again between(-3754,-3754): -3754\n",
      "You guess Right! Costs 15\n"
     ]
    }
   ],
   "source": [
    "guessMe()"
   ]
  },
  {
   "cell_type": "markdown",
   "id": "necessary-wesley",
   "metadata": {},
   "source": [
    "***There is a bug in former guessMe function, do you notice it?***"
   ]
  },
  {
   "cell_type": "markdown",
   "id": "medium-western",
   "metadata": {},
   "source": [
    "You're Wrong! Please try again between(-4999,-1001): -3000  \n",
    "You're Wrong! Please try again between(-4999,-3001): -3500  \n",
    "You're Wrong! Please try again between(-4999,-3501): -4000  \n",
    "\n",
    "**It does not check out input value's constraint！**  \n",
    "**Let's fix it!**"
   ]
  },
  {
   "cell_type": "code",
   "execution_count": 65,
   "id": "systematic-lindsay",
   "metadata": {},
   "outputs": [],
   "source": [
    "# let's program a help function do value-check job!\n",
    "def legalInput(smaller,bigger):\n",
    "    while True:\n",
    "        x=int(input(\"Please guess me a number between(%d~%d): \"%(smaller,bigger)))\n",
    "        if x>bigger or x<smaller:\n",
    "            print(\"Careful your input! Input should belongs to(%d~%d): \"%(smaller,bigger))\n",
    "            continue\n",
    "        else:\n",
    "            break\n",
    "    return x"
   ]
  },
  {
   "cell_type": "code",
   "execution_count": 67,
   "id": "lovely-component",
   "metadata": {},
   "outputs": [
    {
     "name": "stdout",
     "output_type": "stream",
     "text": [
      "Please guess me a number between(-10~10): 12\n",
      "Careful your input! Input should belongs to(-10~10): \n",
      "Please guess me a number between(-10~10): 5\n"
     ]
    },
    {
     "data": {
      "text/plain": [
       "5"
      ]
     },
     "execution_count": 67,
     "metadata": {},
     "output_type": "execute_result"
    }
   ],
   "source": [
    "legalInput(-10,10)"
   ]
  },
  {
   "cell_type": "code",
   "execution_count": 68,
   "id": "cleared-bernard",
   "metadata": {},
   "outputs": [],
   "source": [
    "def guessMeRight():\n",
    "    from random import randint\n",
    "    target=randint(-10000,10000) # includes -10000,10000\n",
    "    times=0\n",
    "    smaller,bigger=-10000,10000\n",
    "    ## check if illegal input!\n",
    "    x=legalInput(smaller,bigger)\n",
    "    ## guess mission main body\n",
    "    while True:\n",
    "        if x==target:\n",
    "            print(\"You guess Right! Costs %d times.\"%times)\n",
    "            break\n",
    "        elif x>target:\n",
    "            bigger=x-1\n",
    "            times+=1\n",
    "            x=legalInput(smaller,bigger)\n",
    "        else:\n",
    "            smaller=x+1\n",
    "            times+=1\n",
    "            x=legalInput(smaller,bigger)"
   ]
  },
  {
   "cell_type": "code",
   "execution_count": 69,
   "id": "compliant-jackson",
   "metadata": {},
   "outputs": [
    {
     "name": "stdout",
     "output_type": "stream",
     "text": [
      "Please guess me a number between(-10000~10000): 0\n",
      "Please guess me a number between(1~10000): 5000\n",
      "Please guess me a number between(1~4999): 3000\n",
      "Please guess me a number between(1~2999): 1500\n",
      "Please guess me a number between(1501~2999): 3000\n",
      "Careful your input! Input should belongs to(1501~2999): \n",
      "Please guess me a number between(1501~2999): 2000\n",
      "Please guess me a number between(1501~1999): 1800\n",
      "Please guess me a number between(1501~1799): 1600\n",
      "Please guess me a number between(1501~1599): 1550\n",
      "Please guess me a number between(1551~1599): 1570\n",
      "Please guess me a number between(1571~1599): 1580\n",
      "Please guess me a number between(1571~1579): 1575\n",
      "Please guess me a number between(1571~1574): 1572\n",
      "You guess Right! Costs 11 times.\n"
     ]
    }
   ],
   "source": [
    "guessMeRight()"
   ]
  },
  {
   "cell_type": "markdown",
   "id": "flexible-canon",
   "metadata": {},
   "source": [
    "## 6. OOP (object-oriented programming) <a name='OOP'></a>\n",
    "\n",
    "**Object-oriented programming (OOP)** is a programming paradigm based on the concept of \"objects\", which can contain data and code: data in the form of fields (often known as attributes or properties),  and code, in the form of procedures (often known as methods).  \n",
    "\n",
    "高级编程语言主要分为：编程面向对象编程和面向过程编程。\n",
    "- **面向过程（Procedure Oriented 简称PO ：如C语言）：**\n",
    "\n",
    "    - 从名字可以看出它是注重过程的。当解决一个问题的时候，面向过程会把事情拆分成： 一个个函数和数据（用于方法的参数） 。然后按照一定的顺序，执行完这些方法（每个方法看作一个过程），等方法执行完了，事情就搞定了。\n",
    "\n",
    "- **面向对象（Object Oriented简称OO ：如C++，JAVA等语言）：**\n",
    "\n",
    "    - 看名字它是注重对象的。当解决一个问题的时候，面向对象会把事物抽象成对象的概念，就是说这个问题里面有哪些对象，然后给对象赋一些属性和方法，然后让每个对象去执行自己的方法，问题得到解决。\n",
    "\n",
    "**用1个例子说明两者的区别：**[@知乎·呜呜轩轩](https://zhuanlan.zhihu.com/p/75265007)\n",
    "\n",
    "\n",
    "问题： 洗衣机里面放有脏衣服，怎么洗干净？\n",
    "\n",
    "面向过程的解决方法：\n",
    "\n",
    "1、执行加洗衣粉方法；\n",
    "\n",
    "2、执行加水方法；\n",
    "\n",
    "3、执行洗衣服方法；\n",
    "\n",
    "4、执行清洗方法；\n",
    "\n",
    "5、 执行烘干方法；\n",
    "\n",
    "以上就是将解决这个问题的过程拆成一个个方法（是没有对象去调用的），通过一个个方法的执行来解决问题。\n",
    "\n",
    "面向对象的解决方法：\n",
    "\n",
    "1、我先弄出两个对象：“洗衣机”对象和“人”对象\n",
    "\n",
    "2、针对对象“洗衣机”加入一些属性和方法：“洗衣服方法”“清洗方法”、“烘干方法”\n",
    "\n",
    "3、针对对象“人”加入属性和方法：“加洗衣粉方法”、“加水方法”\n",
    "\n",
    "4、然后执行\n",
    "\n",
    "人.加洗衣粉\n",
    "\n",
    "人.加水\n",
    "\n",
    "洗衣机.洗衣服\n",
    "\n",
    "洗衣机.清洗\n",
    "\n",
    "洗衣机.烘干\n",
    "\n",
    "解决同一个问题 ，面向对象编程就是先抽象出对象，然后用对象执行方法的方式解决问题。\n",
    "\n"
   ]
  },
  {
   "cell_type": "markdown",
   "id": "interested-cameroon",
   "metadata": {},
   "source": [
    "### 6.1 Learning OOP with Python <a name='ch6.1'></a>\n",
    "\n",
    "**What you need to know:**  \n",
    "**①面向对象编程的特性**\n",
    "- 封装，\n",
    "- 继承，\n",
    "- 多态.\n",
    "\n",
    "**②class and object(类与对象)、attributts and methods(属性和方法)**  \n",
    "- **Class attributes(类属性)** – belong to the class as a whole; there is only one copy of each one\n",
    "- **Instance attributes(实例或对象属性)** – data that belongs to individual objects; every object has its own copy of each one\n",
    "- **Instance methods(实例或对象方法)** – belong to individual objects, and have access to instance variables for the specific object they are called on, inputs, and class variables\n",
    "- **Advanced:**\n",
    "    - **Class methods(类方法)** – belong to the class as a whole and have access only to class variables and inputs from the procedure call\n",
    "**Let's figure out what are those means!**  \n"
   ]
  },
  {
   "cell_type": "markdown",
   "id": "diagnostic-acquisition",
   "metadata": {},
   "source": [
    "### 6.1.1 封装 \n",
    "\n",
    "封装，就是把客观事物封装成抽象的类(class)，并且类可以把自己的数据和方法只让可信的类或者对象操作\n",
    "\n",
    "**Imagine a thing a life...such as Dogs**"
   ]
  },
  {
   "cell_type": "code",
   "execution_count": 70,
   "id": "freelance-drill",
   "metadata": {},
   "outputs": [],
   "source": [
    "class Dogs():\n",
    "    count=0\n",
    "    def __init__(self,name='',age=0):\n",
    "        self.name=name\n",
    "        self.age=age\n",
    "        Dogs.count+=1\n",
    "    def whichDog(self):\n",
    "        print(\"This is Dog %s, and %d years old.\"%(self.name,self.age))\n",
    "    def jobDoing(self,job=''):\n",
    "        print(\"Dog %s usually doing %s with human!\"%(self.name,job))"
   ]
  },
  {
   "cell_type": "code",
   "execution_count": 71,
   "id": "interested-department",
   "metadata": {},
   "outputs": [],
   "source": [
    "alaska=Dogs('alaska',3)"
   ]
  },
  {
   "cell_type": "code",
   "execution_count": 72,
   "id": "young-demographic",
   "metadata": {},
   "outputs": [
    {
     "name": "stdout",
     "output_type": "stream",
     "text": [
      "This is Dog alaska, and 3 years old.\n"
     ]
    }
   ],
   "source": [
    "alaska.whichDog()"
   ]
  },
  {
   "cell_type": "code",
   "execution_count": 73,
   "id": "editorial-affiliation",
   "metadata": {},
   "outputs": [
    {
     "name": "stdout",
     "output_type": "stream",
     "text": [
      "Dog alaska usually doing fun with human!\n"
     ]
    }
   ],
   "source": [
    "alaska.jobDoing('fun')"
   ]
  },
  {
   "cell_type": "code",
   "execution_count": 74,
   "id": "incident-banana",
   "metadata": {},
   "outputs": [],
   "source": [
    "shepherd=Dogs('shepherd',4)"
   ]
  },
  {
   "cell_type": "code",
   "execution_count": 75,
   "id": "associate-illinois",
   "metadata": {},
   "outputs": [
    {
     "name": "stdout",
     "output_type": "stream",
     "text": [
      "This is Dog shepherd, and 4 years old.\n"
     ]
    }
   ],
   "source": [
    "shepherd.whichDog()"
   ]
  },
  {
   "cell_type": "code",
   "execution_count": 76,
   "id": "favorite-supplement",
   "metadata": {},
   "outputs": [
    {
     "name": "stdout",
     "output_type": "stream",
     "text": [
      "Dog shepherd usually doing protection with human!\n"
     ]
    }
   ],
   "source": [
    "shepherd.jobDoing('protection')"
   ]
  },
  {
   "cell_type": "code",
   "execution_count": 77,
   "id": "outdoor-semester",
   "metadata": {},
   "outputs": [
    {
     "name": "stdout",
     "output_type": "stream",
     "text": [
      "How many object-dogs are created by class-Dogs? \n",
      "The answer is :2 \n"
     ]
    }
   ],
   "source": [
    "print(\"How many object-dogs are created by class-Dogs? \\nThe answer is :%d \"%Dogs.count)"
   ]
  },
  {
   "cell_type": "markdown",
   "id": "interracial-collective",
   "metadata": {},
   "source": [
    "**What you should care about in upper class are:**\n",
    "\n",
    "- self,用来把参数传递给类class的对象\n",
    "- \\__init__, 用来初始化一个对象的属性: self.name 和self.age\n",
    "- 如果你有一个没有参数的方法methods，你依旧必须拥有一个参数—— self ,如 whichDog;\n",
    "- 就上述Dogs类而言：\n",
    "    - count 是类属性,所有对象共享；\n",
    "    - self.name和self.age 是对象属性；\n",
    "    - whichDog和barking 是对象方法"
   ]
  },
  {
   "cell_type": "markdown",
   "id": "little-tyler",
   "metadata": {},
   "source": [
    "### 6.1.2 继承 Inheritance 与多态 Polymorphism\n",
    "\n",
    "就和字面意思差不多，继承是一个类对另一个类的代码重用。  \n",
    "面向对象编程的一大优点是对代码的重用（Reuse），重用的一种实现方法就是通过继承（Inheritance）机制。\n",
    "\n",
    "**假如随着动物的进化，狗中贵族哈士奇拥有了新的技能：说人话！！！ 这时候需要为之重新创造一个新狗类吗？**  \n",
    "答案是：不需要！  \n",
    "需要做的是：\n",
    "- 继承：哈士奇虽然会说了人话，但它还是狗！还具有原来的属性；\n",
    "- 多态：毕竟会说了人话，在jobDoing介绍的时候自然要炫耀一下：重写对象方法；"
   ]
  },
  {
   "cell_type": "code",
   "execution_count": 78,
   "id": "typical-rough",
   "metadata": {},
   "outputs": [],
   "source": [
    "class speakHusky(Dogs):\n",
    "    def __init__(self,name,age,speakLanguage='English'):\n",
    "        Dogs.__init__(self,name,age)\n",
    "        #super().__init__(self,name,age)\n",
    "        self.speak=speakLanguage\n",
    "    def jobDoing(self,job=''):\n",
    "        print(\"Dog %s usually doing %s, And talk %s with master!\"%(self.name,job,self.speak))\n",
    "    def halfHuman(self):\n",
    "        print(\"Dog %s can be called half-human now!\"%self.name)"
   ]
  },
  {
   "cell_type": "code",
   "execution_count": 79,
   "id": "proof-debut",
   "metadata": {},
   "outputs": [],
   "source": [
    "husky=speakHusky('Husky',5,'English')"
   ]
  },
  {
   "cell_type": "code",
   "execution_count": 80,
   "id": "ongoing-throw",
   "metadata": {},
   "outputs": [
    {
     "name": "stdout",
     "output_type": "stream",
     "text": [
      "This is Dog Husky, and 5 years old.\n"
     ]
    }
   ],
   "source": [
    "husky.whichDog()"
   ]
  },
  {
   "cell_type": "code",
   "execution_count": 81,
   "id": "instrumental-value",
   "metadata": {},
   "outputs": [
    {
     "name": "stdout",
     "output_type": "stream",
     "text": [
      "Dog Husky usually doing fun, And talk English with master!\n"
     ]
    }
   ],
   "source": [
    "husky.jobDoing('fun')"
   ]
  },
  {
   "cell_type": "code",
   "execution_count": 82,
   "id": "alpine-hollywood",
   "metadata": {},
   "outputs": [
    {
     "name": "stdout",
     "output_type": "stream",
     "text": [
      "Dog Husky can be called half-human now!\n"
     ]
    }
   ],
   "source": [
    "husky.halfHuman()"
   ]
  },
  {
   "cell_type": "markdown",
   "id": "sorted-tournament",
   "metadata": {},
   "source": [
    "**Traceback...**\n",
    "- 父类属性 self.name,self.age 被子类speakHusky完全继承；\n",
    "- 父类方法 whichDog 被子类speakHusky完全继承；\n",
    "- 父类方法 jobDoing 被子类speakHusky重写（多态）；\n",
    "- 子类speakHusky 进化出了新技能 halfHuman。"
   ]
  },
  {
   "cell_type": "markdown",
   "id": "cooperative-longitude",
   "metadata": {},
   "source": [
    "### 6.2 Calculator with OOP<a name='ch6.2'></a>\n",
    "\n",
    "**学习了类与对象的知识，你就拥有了强大的技能，因为万物皆可对象！**  \n",
    "**Now you say \"Python OOP makes me strong as mountains!\"**\n",
    "\n",
    "**So rebuilding Calculator with OOP is now a simple matter.**\n",
    "\n",
    "[callback:Calculator-Freshman Version](#ch3.4)\n",
    "\n",
    "**① 基本计算器**"
   ]
  },
  {
   "cell_type": "code",
   "execution_count": 83,
   "id": "light-voluntary",
   "metadata": {},
   "outputs": [],
   "source": [
    "class BasicCalculator():\n",
    "    def __init__(self,name=''):\n",
    "        self.name=name\n",
    "    def info(self):\n",
    "        print(\"This is %s Calculator!\"%self.name)\n",
    "    def plus(self,x=0,y=0):\n",
    "        return x+y\n",
    "    def minus(self,x=0,y=0):\n",
    "        return x-y\n",
    "    def multiply(self,x=0,y=0):\n",
    "        return x*y\n",
    "    def division(self,x=0,y=1):\n",
    "        if y==0 or y==0.0:\n",
    "            print(\"Wrong input: Division by Zero!\")\n",
    "            return\n",
    "        else:\n",
    "            return x/y"
   ]
  },
  {
   "cell_type": "code",
   "execution_count": 84,
   "id": "sudden-business",
   "metadata": {},
   "outputs": [],
   "source": [
    "basic=BasicCalculator('Basic')"
   ]
  },
  {
   "cell_type": "code",
   "execution_count": 85,
   "id": "opening-welsh",
   "metadata": {},
   "outputs": [
    {
     "name": "stdout",
     "output_type": "stream",
     "text": [
      "This is Basic Calculator!\n"
     ]
    }
   ],
   "source": [
    "basic.info()"
   ]
  },
  {
   "cell_type": "code",
   "execution_count": 86,
   "id": "hairy-brave",
   "metadata": {},
   "outputs": [
    {
     "data": {
      "text/plain": [
       "3"
      ]
     },
     "execution_count": 86,
     "metadata": {},
     "output_type": "execute_result"
    }
   ],
   "source": [
    "basic.plus(1,2)"
   ]
  },
  {
   "cell_type": "code",
   "execution_count": 87,
   "id": "australian-broadcast",
   "metadata": {},
   "outputs": [
    {
     "data": {
      "text/plain": [
       "-1"
      ]
     },
     "execution_count": 87,
     "metadata": {},
     "output_type": "execute_result"
    }
   ],
   "source": [
    "basic.minus(3,4)"
   ]
  },
  {
   "cell_type": "code",
   "execution_count": 88,
   "id": "express-diagnosis",
   "metadata": {},
   "outputs": [
    {
     "data": {
      "text/plain": [
       "12"
      ]
     },
     "execution_count": 88,
     "metadata": {},
     "output_type": "execute_result"
    }
   ],
   "source": [
    "basic.multiply(3,4)"
   ]
  },
  {
   "cell_type": "code",
   "execution_count": 89,
   "id": "joint-synthetic",
   "metadata": {},
   "outputs": [
    {
     "name": "stdout",
     "output_type": "stream",
     "text": [
      "Wrong input: Division by Zero!\n"
     ]
    }
   ],
   "source": [
    "basic.division(2,0)"
   ]
  },
  {
   "cell_type": "code",
   "execution_count": 90,
   "id": "requested-protocol",
   "metadata": {},
   "outputs": [
    {
     "data": {
      "text/plain": [
       "2.0"
      ]
     },
     "execution_count": 90,
     "metadata": {},
     "output_type": "execute_result"
    }
   ],
   "source": [
    "basic.division(6,3)"
   ]
  },
  {
   "cell_type": "markdown",
   "id": "welsh-canon",
   "metadata": {},
   "source": [
    "**②科学计算器**"
   ]
  },
  {
   "cell_type": "code",
   "execution_count": 91,
   "id": "incorrect-sleeve",
   "metadata": {},
   "outputs": [],
   "source": [
    "import math\n",
    "\n",
    "class sciCalculator(BasicCalculator):\n",
    "    def __init__(self,name=''):\n",
    "        BasicCalculator.__init__(self,name)    \n",
    "    def plus(self,x,y):\n",
    "        # 不限制数据类型\n",
    "        return x+y\n",
    "    def sin(self,x=0):\n",
    "        return math.sin(x)\n",
    "    def cos(self,x=0):\n",
    "        return math.cos(x)\n",
    "    def tan(self,x=0):\n",
    "        return math.tan(x)"
   ]
  },
  {
   "cell_type": "code",
   "execution_count": 92,
   "id": "moving-determination",
   "metadata": {},
   "outputs": [],
   "source": [
    "sci=sciCalculator('Scientific')"
   ]
  },
  {
   "cell_type": "code",
   "execution_count": 93,
   "id": "aquatic-ocean",
   "metadata": {},
   "outputs": [
    {
     "name": "stdout",
     "output_type": "stream",
     "text": [
      "This is Scientific Calculator!\n"
     ]
    }
   ],
   "source": [
    "sci.info()  # 完全继承"
   ]
  },
  {
   "cell_type": "code",
   "execution_count": 94,
   "id": "immune-transmission",
   "metadata": {},
   "outputs": [
    {
     "data": {
      "text/plain": [
       "'ab'"
      ]
     },
     "execution_count": 94,
     "metadata": {},
     "output_type": "execute_result"
    }
   ],
   "source": [
    "sci.plus('a','b') # 重写、多态"
   ]
  },
  {
   "cell_type": "code",
   "execution_count": 95,
   "id": "entertaining-vatican",
   "metadata": {},
   "outputs": [
    {
     "data": {
      "text/plain": [
       "0.49999999999999994"
      ]
     },
     "execution_count": 95,
     "metadata": {},
     "output_type": "execute_result"
    }
   ],
   "source": [
    "sci.sin(math.pi/6) # 新对象方法"
   ]
  },
  {
   "cell_type": "code",
   "execution_count": 96,
   "id": "productive-audio",
   "metadata": {},
   "outputs": [
    {
     "data": {
      "text/plain": [
       "0.5000000000000001"
      ]
     },
     "execution_count": 96,
     "metadata": {},
     "output_type": "execute_result"
    }
   ],
   "source": [
    "sci.cos(math.pi/3) # 新对象方法"
   ]
  },
  {
   "cell_type": "code",
   "execution_count": 97,
   "id": "furnished-spice",
   "metadata": {},
   "outputs": [
    {
     "data": {
      "text/plain": [
       "0.9999999999999999"
      ]
     },
     "execution_count": 97,
     "metadata": {},
     "output_type": "execute_result"
    }
   ],
   "source": [
    "sci.tan(math.pi/4)# 新对象方法"
   ]
  },
  {
   "cell_type": "markdown",
   "id": "hawaiian-watts",
   "metadata": {},
   "source": [
    "## 7. Summary and outlook <a name='summary'></a>\n",
    "\n",
    "### Summary\n",
    "\n",
    "**For the Python programming language, the content of this tutorial is very basic and far from comprehensive, but it can be used as an amazing date to discover the simplicity and fun of Python.**\n",
    "\n",
    "### Outlook\n",
    "\n",
    "- to newbies, this content maybe as a quick glance;\n",
    "- to beginners, I sugguest this book [《A Byte of Python-简明 Python 教程 v.4.07c 2017》 提取码：y4sn](https://pan.baidu.com/s/1pwaZOAl7GVjX5zs03mXA9A);\n",
    "- to senior, I look forward to your feedback and guidance.[Feedback](http://fallincloud.com/?p=239)\n",
    "\n",
    "***Sincerely,I hope this tutorial can be helpful to you guys who learn python programming***"
   ]
  },
  {
   "cell_type": "markdown",
   "id": "improved-samoa",
   "metadata": {},
   "source": [
    "<h5 style=\"text-align:right\">© Copyright 2021-, xldang's Python classroom.</h5>\n",
    "\n",
    "<h5 style=\"text-align:right\"> Email:xldang2020@gmail.com </h5>\n",
    "\n",
    "<h5 style=\"text-align:right\"> Last updated on Apr 10, 2021. </h5>"
   ]
  }
 ],
 "metadata": {
  "kernelspec": {
   "display_name": "Python 3",
   "language": "python",
   "name": "python3"
  },
  "language_info": {
   "codemirror_mode": {
    "name": "ipython",
    "version": 3
   },
   "file_extension": ".py",
   "mimetype": "text/x-python",
   "name": "python",
   "nbconvert_exporter": "python",
   "pygments_lexer": "ipython3",
   "version": "3.8.5"
  }
 },
 "nbformat": 4,
 "nbformat_minor": 5
}
